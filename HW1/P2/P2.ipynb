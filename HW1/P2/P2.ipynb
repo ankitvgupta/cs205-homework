{
 "metadata": {
  "name": "",
  "signature": "sha256:ee7c1896dc1c3fefff22b380f5660faab62561713d637eaf2cb196aaa866d668"
 },
 "nbformat": 3,
 "nbformat_minor": 0,
 "worksheets": [
  {
   "cells": [
    {
     "cell_type": "code",
     "collapsed": false,
     "input": [
      "import findspark\n",
      "findspark.init()\n",
      "# Your code here\n",
      "import pyspark\n",
      "sc = pyspark.SparkContext(appName=\"Spark1\")\n",
      "import numpy as np \n",
      "import matplotlib.pyplot as plt \n",
      "import matplotlib.cm as cm"
     ],
     "language": "python",
     "metadata": {},
     "outputs": [
      {
       "ename": "ValueError",
       "evalue": "Cannot run multiple SparkContexts at once; existing SparkContext(app=Spark1, master=local[*]) created by __init__ at <ipython-input-4-8f756990ee18>:4 ",
       "output_type": "pyerr",
       "traceback": [
        "\u001b[0;31m---------------------------------------------------------------------------\u001b[0m\n\u001b[0;31mValueError\u001b[0m                                Traceback (most recent call last)",
        "\u001b[0;32m<ipython-input-6-f93766773695>\u001b[0m in \u001b[0;36m<module>\u001b[0;34m()\u001b[0m\n\u001b[1;32m      3\u001b[0m \u001b[0;31m# Your code here\u001b[0m\u001b[0;34m\u001b[0m\u001b[0;34m\u001b[0m\u001b[0m\n\u001b[1;32m      4\u001b[0m \u001b[0;32mimport\u001b[0m \u001b[0mpyspark\u001b[0m\u001b[0;34m\u001b[0m\u001b[0m\n\u001b[0;32m----> 5\u001b[0;31m \u001b[0msc\u001b[0m \u001b[0;34m=\u001b[0m \u001b[0mpyspark\u001b[0m\u001b[0;34m.\u001b[0m\u001b[0mSparkContext\u001b[0m\u001b[0;34m(\u001b[0m\u001b[0mappName\u001b[0m\u001b[0;34m=\u001b[0m\u001b[0;34m\"Spark1\"\u001b[0m\u001b[0;34m)\u001b[0m\u001b[0;34m\u001b[0m\u001b[0m\n\u001b[0m\u001b[1;32m      6\u001b[0m \u001b[0;32mimport\u001b[0m \u001b[0mnumpy\u001b[0m \u001b[0;32mas\u001b[0m \u001b[0mnp\u001b[0m\u001b[0;34m\u001b[0m\u001b[0m\n\u001b[1;32m      7\u001b[0m \u001b[0;32mimport\u001b[0m \u001b[0mmatplotlib\u001b[0m\u001b[0;34m.\u001b[0m\u001b[0mpyplot\u001b[0m \u001b[0;32mas\u001b[0m \u001b[0mplt\u001b[0m\u001b[0;34m\u001b[0m\u001b[0m\n",
        "\u001b[0;32m/usr/local/opt/apache-spark/libexec/python/pyspark/context.pyc\u001b[0m in \u001b[0;36m__init__\u001b[0;34m(self, master, appName, sparkHome, pyFiles, environment, batchSize, serializer, conf, gateway, jsc, profiler_cls)\u001b[0m\n\u001b[1;32m    108\u001b[0m         \"\"\"\n\u001b[1;32m    109\u001b[0m         \u001b[0mself\u001b[0m\u001b[0;34m.\u001b[0m\u001b[0m_callsite\u001b[0m \u001b[0;34m=\u001b[0m \u001b[0mfirst_spark_call\u001b[0m\u001b[0;34m(\u001b[0m\u001b[0;34m)\u001b[0m \u001b[0;32mor\u001b[0m \u001b[0mCallSite\u001b[0m\u001b[0;34m(\u001b[0m\u001b[0mNone\u001b[0m\u001b[0;34m,\u001b[0m \u001b[0mNone\u001b[0m\u001b[0;34m,\u001b[0m \u001b[0mNone\u001b[0m\u001b[0;34m)\u001b[0m\u001b[0;34m\u001b[0m\u001b[0m\n\u001b[0;32m--> 110\u001b[0;31m         \u001b[0mSparkContext\u001b[0m\u001b[0;34m.\u001b[0m\u001b[0m_ensure_initialized\u001b[0m\u001b[0;34m(\u001b[0m\u001b[0mself\u001b[0m\u001b[0;34m,\u001b[0m \u001b[0mgateway\u001b[0m\u001b[0;34m=\u001b[0m\u001b[0mgateway\u001b[0m\u001b[0;34m)\u001b[0m\u001b[0;34m\u001b[0m\u001b[0m\n\u001b[0m\u001b[1;32m    111\u001b[0m         \u001b[0;32mtry\u001b[0m\u001b[0;34m:\u001b[0m\u001b[0;34m\u001b[0m\u001b[0m\n\u001b[1;32m    112\u001b[0m             self._do_init(master, appName, sparkHome, pyFiles, environment, batchSize, serializer,\n",
        "\u001b[0;32m/usr/local/opt/apache-spark/libexec/python/pyspark/context.pyc\u001b[0m in \u001b[0;36m_ensure_initialized\u001b[0;34m(cls, instance, gateway)\u001b[0m\n\u001b[1;32m    248\u001b[0m                         \u001b[0;34m\" created by %s at %s:%s \"\u001b[0m\u001b[0;34m\u001b[0m\u001b[0m\n\u001b[1;32m    249\u001b[0m                         % (currentAppName, currentMaster,\n\u001b[0;32m--> 250\u001b[0;31m                             callsite.function, callsite.file, callsite.linenum))\n\u001b[0m\u001b[1;32m    251\u001b[0m                 \u001b[0;32melse\u001b[0m\u001b[0;34m:\u001b[0m\u001b[0;34m\u001b[0m\u001b[0m\n\u001b[1;32m    252\u001b[0m                     \u001b[0mSparkContext\u001b[0m\u001b[0;34m.\u001b[0m\u001b[0m_active_spark_context\u001b[0m \u001b[0;34m=\u001b[0m \u001b[0minstance\u001b[0m\u001b[0;34m\u001b[0m\u001b[0m\n",
        "\u001b[0;31mValueError\u001b[0m: Cannot run multiple SparkContexts at once; existing SparkContext(app=Spark1, master=local[*]) created by __init__ at <ipython-input-4-8f756990ee18>:4 "
       ]
      }
     ],
     "prompt_number": 6
    },
    {
     "cell_type": "code",
     "collapsed": false,
     "input": [
      "\n",
      "def mandelbrot(x, y):\n",
      "    z = c = complex(x, y)\n",
      "    iteration = 0\n",
      "    max_iteration = 511  # arbitrary cutoff\n",
      "    while abs(z) < 2 and iteration < max_iteration:\n",
      "        z = z * z + c\n",
      "        iteration += 1\n",
      "    return iteration\n",
      "\n",
      "def sum_values_for_partitions(rdd):\n",
      "    'Returns (as an RDD) the sum of V for each partition of a (K, V) RDD'\n",
      "    # note that the function passed to mapPartitions should return a sequence,\n",
      "    # not a value.\n",
      "    return rdd.mapPartitions(lambda part: [sum(V for K, V in part)])\n",
      "\n",
      "def draw_image(rdd):\n",
      "    '''Given a (K, V) RDD with K = (I, J) and V = count,\n",
      "    display an image of count at each I, J'''\n",
      "\n",
      "    data = rdd.collect()\n",
      "    I = np.array([d[0][0] for d in data])\n",
      "    J = np.array([d[0][1] for d in data])\n",
      "    C = np.array([d[1] for d in data])\n",
      "    im = np.zeros((I.max() + 1, J.max() + 1))\n",
      "    im[I, J] = np.log(C + 1)  # log intensity makes it easier to see levels\n",
      "    plt.imshow(im, cmap=cm.gray)\n",
      "    plt.show()\n"
     ],
     "language": "python",
     "metadata": {},
     "outputs": [],
     "prompt_number": 7
    },
    {
     "cell_type": "code",
     "collapsed": false,
     "input": [],
     "language": "python",
     "metadata": {},
     "outputs": []
    },
    {
     "cell_type": "code",
     "collapsed": false,
     "input": [
      "xs = sc.parallelize(range(2000), 10)\n",
      "grid = xs.cartesian(xs)\n",
      "#xys = grid.map(lambda (i, j): ((i, j), (j/500.0 - 2, i/500.0 - 2))).repartition(100)\n",
      "xys = grid.map(lambda (i, j): ((i, j), (j/500.0 - 2, i/500.0 - 2)))\n",
      "reses = xys.mapValues(lambda (x, y): mandelbrot(x, y))\n",
      "#print xys.take(10)\n",
      "#print reses.take(10)\n",
      "draw_image(reses)\n",
      "distribution = sum_values_for_partitions(reses).collect()\n",
      "plt.figure()\n",
      "plt.hist(distribution)\n",
      "plt.show()\n",
      "\n",
      "\n"
     ],
     "language": "python",
     "metadata": {},
     "outputs": [],
     "prompt_number": 8
    },
    {
     "cell_type": "code",
     "collapsed": false,
     "input": [
      "# Initialize the RDD on 10 partitions so that after the cartesian product, it is 100\n",
      "xs = sc.parallelize(range(2000), 10)\n",
      "grid = xs.cartesian(xs)\n",
      "# Use a partitionBy so that items are sprea\n",
      "xys = grid.map(lambda (i, j): ((i, j), (j/500.0 - 2, i/500.0 - 2))).partitionBy(100, lambda (i, j): 10*(i%10) + j%10)\n",
      "reses = xys.mapValues(lambda (x, y): mandelbrot(x, y))\n",
      "\n",
      "draw_image(reses)\n",
      "distribution = sum_values_for_partitions(reses).collect()\n",
      "plt.figure()\n",
      "plt.hist(distribution)\n",
      "plt.show()"
     ],
     "language": "python",
     "metadata": {},
     "outputs": [],
     "prompt_number": 9
    },
    {
     "cell_type": "code",
     "collapsed": false,
     "input": [
      "def get_anagrams(s):\n",
      "\treturn [\"\".join(perm) for perm in itertools.permutations(s)]\n",
      "\n",
      "wlist = sc.textFile('../P3/EOWL_words.txt')\n",
      "\n",
      "sorted_letter_to_word = wlist.map(lambda x: (''.join(sorted(x)), x))\\\n",
      "                            .groupByKey().map(lambda (x, y): (x, len(y), list(y)))\\\n",
      "                            .sortBy(lambda x: (-1)*x[1])\n",
      "print sorted_letter_to_word.first()\n"
     ],
     "language": "python",
     "metadata": {},
     "outputs": [
      {
       "output_type": "stream",
       "stream": "stdout",
       "text": [
        "(u'aerst', 11, [u'arets', u'aster', u'rates', u'reast', u'resat', u'stare', u'stear', u'strae', u'tares', u'tears', u'teras'])\n"
       ]
      }
     ],
     "prompt_number": 11
    },
    {
     "cell_type": "code",
     "collapsed": false,
     "input": [
      "x = sc.parallelize([1,2,3,4])\n",
      "y = sc.parallelize([(1, 'a'), (2, 'b'), (3, 'c'), (4, 'd')])\n",
      "print x.map(lambda x: (x, x)).join(y).take(10)"
     ],
     "language": "python",
     "metadata": {},
     "outputs": [
      {
       "output_type": "stream",
       "stream": "stdout",
       "text": [
        "[(1, (1, 'a')), (2, (2, 'b')), (3, (3, 'c')), (4, (4, 'd'))]\n"
       ]
      }
     ],
     "prompt_number": 15
    },
    {
     "cell_type": "code",
     "collapsed": false,
     "input": [],
     "language": "python",
     "metadata": {},
     "outputs": []
    }
   ],
   "metadata": {}
  }
 ]
}