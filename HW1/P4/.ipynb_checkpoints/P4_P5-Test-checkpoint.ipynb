{
 "metadata": {
  "name": "",
  "signature": "sha256:5d8fb90b70e81410c803304dae339ebb648882880ecae0f93c820df00e536c49"
 },
 "nbformat": 3,
 "nbformat_minor": 0,
 "worksheets": [
  {
   "cells": [
    {
     "cell_type": "code",
     "collapsed": false,
     "input": [
      "import findspark\n",
      "print findspark.find()\n",
      "findspark.init()\n",
      "\n",
      "import pyspark\n",
      "sc = pyspark.SparkContext(appName=\"Spark1\")\n",
      "\n",
      "import numpy as np \n",
      "import itertools"
     ],
     "language": "python",
     "metadata": {},
     "outputs": [
      {
       "output_type": "stream",
       "stream": "stdout",
       "text": [
        "/usr/local/opt/apache-spark/libexec\n"
       ]
      }
     ],
     "prompt_number": 2
    },
    {
     "cell_type": "code",
     "collapsed": false,
     "input": [
      "def copartitioned(RDD1, RDD2):\n",
      "    \"check if two RDDs are copartitioned\"\n",
      "    return RDD1.partitioner == RDD2.partitioner"
     ],
     "language": "python",
     "metadata": {},
     "outputs": [],
     "prompt_number": 23
    },
    {
     "cell_type": "code",
     "collapsed": false,
     "input": [
      "#######\n",
      "# Implements Breadth First Search\n",
      "# Arguments:\n",
      "# \tadj (KV RDD): Edge list. For example: [(1,2), (1, 3), (2,3), (3, 2)] is the graph where there is a directed edge from 1 to 2 and 1 to 3, edges in both directions between 2 and 3.\n",
      "# \tstart (string): Where the breadth first search will start\n",
      "#   If a stopNode is provided, then it will stop iterating once that node is found.\n",
      "# Returns:\n",
      "# \t(RDD) Distances to each point, and (RDD) list of all points that were not reachable.\n",
      "def bfs(adj, start, sc, numPartitions, distances=None, stopNode=None):\n",
      "    accum = sc.accumulator(0)\n",
      "    print 'Adjacency partitions:', adj.getNumPartitions()\n",
      "    adj = adj.map(lambda x: x).partitionBy(numPartitions).cache()\n",
      "    def reducer(tup):\n",
      "        left_val = tup[0]\n",
      "        right_vals = tup[1]\n",
      "        if len(right_vals) == 0:\n",
      "            return list(left_val)[0]\n",
      "        elif list(left_val)[0] == -1:\n",
      "            return list(right_vals)[0]\n",
      "        else:\n",
      "            return list(left_val)[0]\n",
      "    \n",
      "    def divider(tup):\n",
      "        dist = tup[0]\n",
      "        node_vals = tup[1]\n",
      "        return [(nv, dist + 1) for nv in node_vals]\n",
      "\n",
      "    if distances == None:\n",
      "        distances = adj.mapValues(lambda _: -1)\n",
      "\n",
      "    traversed = sc.parallelize([(start, 0)]).cache().partitionBy(numPartitions)\n",
      "    distances = distances.fullOuterJoin(traversed).mapValues(lambda (x, y): x if y == None else y).partitionBy(numPartitions).cache()\n",
      "    #print distances.take(100)\n",
      "    assert(copartitioned(adj, distances))\n",
      "    print 'Start traverse partitions:', distances.getNumPartitions()\n",
      "    farthest = 0\n",
      "    accum.add(1)\n",
      "    while accum.value != 0:\n",
      "        accum.value = 0\n",
      "        print \"\\n\\nOn iteration \", farthest, ' for ', start, '\\n\\n'\n",
      "        if stopNode != None and distances.lookup(stopNode)[0] != -1:\n",
      "            break\n",
      "        farthest_nodes = distances.filter(lambda (node, dist): dist == farthest)\n",
      "\n",
      "        joined_farthest_neighbors = farthest_nodes.join(adj, numPartitions)\n",
      "        neighbor_distances = joined_farthest_neighbors.values().flatMap(divider).partitionBy(numPartitions).cache()\n",
      "        assert(copartitioned(neighbor_distances, distances))\n",
      "        distances = distances.cogroup(neighbor_distances).mapValues(reducer).cache()\n",
      "        farthest += 1\n",
      "        distances.filter(lambda (x, dist): dist == farthest).foreach(lambda x: accum.add(1))\n",
      "        #print traversed.take(100)\n",
      "\n",
      "    print 'End tranverse partitions:', distances.getNumPartitions()\n",
      "    return distances, distances.filter(lambda (node, dist): dist < 0)"
     ],
     "language": "python",
     "metadata": {},
     "outputs": [],
     "prompt_number": 24
    },
    {
     "cell_type": "code",
     "collapsed": false,
     "input": [
      "## This is for the connected components\n",
      "# Approach: BFS until it quits. Then reduce the distances to only the ones that are unreachable. Increment counter by 1. Restart BFS with the new set of distances.\n",
      "\n",
      "def count_connected_components(adj, numPartitions, sc):\n",
      "    adj = adj.map(lambda x: x).partitionBy(numPartitions).cache()\n",
      "    dists = adj.mapValues(lambda _: -1)\n",
      "    num_left = sc.accumulator(0)\n",
      "    dists.foreach(lambda x: num_left.add(1))\n",
      "    num_conn_components = 0\n",
      "    while(num_left.value > 0):\n",
      "        num_conn_components += 1\n",
      "        num_left.value = 0\n",
      "        start = dists.takeSample(True, 1)[0][0]\n",
      "        dist, unreachable = bfs(adj, start, sc, numPartitions, distances=dists, stopNode=None)\n",
      "        dists = dist.filter(lambda (node, dist): dist < 0)\n",
      "        dists.foreach(lambda x: num_left.add(1))\n",
      "        \n",
      "    return num_conn_components"
     ],
     "language": "python",
     "metadata": {},
     "outputs": [],
     "prompt_number": 25
    },
    {
     "cell_type": "code",
     "collapsed": false,
     "input": [
      "# Your code here\n",
      "#import pyspark\n",
      "#sc = pyspark.SparkContext(appName=\"Spark1\")\n",
      "#from P4_bfs import *\n",
      "\n",
      "# make spark shut the hell up\n",
      "logger = sc._jvm.org.apache.log4j\n",
      "logger.LogManager.getLogger(\"org\"). setLevel( logger.Level.ERROR )\n",
      "logger.LogManager.getLogger(\"akka\").setLevel( logger.Level.ERROR )\n",
      "\n",
      "import numpy as np \n",
      "import itertools\n",
      "\n",
      "def remove_quotes(s):\n",
      "    return s.replace('\"','')\n",
      "\n",
      "def get_pairs(arr):\n",
      "    return list(itertools.permutations(arr, 2))\n",
      "\n",
      "num_Partitions = 15\n",
      "\n",
      "wlist = sc.textFile('source.csv', num_Partitions)\n",
      "#Extract the strings and remove all unnessary quotes\n",
      "better = wlist.map(lambda x: x.split('\",\"'), True).map(lambda x: map(remove_quotes, x), True)\n",
      "character_to_book = better.map(lambda x: (x[0], x[1]))\n",
      "book_to_character = character_to_book.map(lambda (x, y): (y, x))\n",
      "book_to_characters = book_to_character.groupByKey()\n",
      "\n",
      "adjacent_heros = book_to_characters.flatMap(lambda (book, characters): get_pairs(characters)).distinct().partitionBy(num_Partitions)\n",
      "\n",
      "characters = adjacent_heros.groupByKey().partitionBy(num_Partitions)\n",
      "print characters.take(20)\n",
      "\n",
      "res1, res2 = bfs(characters, 'CAPTAIN AMERICA', sc, num_Partitions, distances=None, stopNode=None)\n",
      "print res1.values().countByValue(), '\\n'\n",
      "\n",
      "print '\\n\\nCalculating connected components....\\n\\n'\n",
      "num_conn = count_connected_components(characters, num_Partitions, sc)\n",
      "print '\\n\\n\\n\\n\\n\\nNumber connected components: ', num_conn"
     ],
     "language": "python",
     "metadata": {},
     "outputs": [
      {
       "output_type": "stream",
       "stream": "stdout",
       "text": [
        "[(u'SIR', <pyspark.resultiterable.ResultIterable object at 0x107b23f50>), (u'HYZAKTL', <pyspark.resultiterable.ResultIterable object at 0x107aa5d90>), (u'GAMBIT/REMY LEBEAU ', <pyspark.resultiterable.ResultIterable object at 0x107aa5bd0>), (u'POITIER, CLAUDE', <pyspark.resultiterable.ResultIterable object at 0x107aa5110>), (u'NINGAL', <pyspark.resultiterable.ResultIterable object at 0x107aa5c10>), (u'HIGGINS, RICHIE', <pyspark.resultiterable.ResultIterable object at 0x107aa5f90>), (u'GARTHAN SAAL', <pyspark.resultiterable.ResultIterable object at 0x107aa5c50>), (u'FLATMAN', <pyspark.resultiterable.ResultIterable object at 0x107aa5750>), (u'PROFESSOR X | MUTANT', <pyspark.resultiterable.ResultIterable object at 0x107aa5f50>), (u'BENWAY, DR.', <pyspark.resultiterable.ResultIterable object at 0x107aa5690>), (u'KANDRA', <pyspark.resultiterable.ResultIterable object at 0x107aa5450>), (u'HEADLOK', <pyspark.resultiterable.ResultIterable object at 0x107aa5d50>), (u'JONES, SANDY', <pyspark.resultiterable.ResultIterable object at 0x107aa5dd0>), (u'RITTER, DEBORAH ', <pyspark.resultiterable.ResultIterable object at 0x107aa59d0>), (u'MANDARIN', <pyspark.resultiterable.ResultIterable object at 0x107aa5c90>), (u'BULLET BIKER', <pyspark.resultiterable.ResultIterable object at 0x107ab8e10>), (u'DR. FAUSTUS', <pyspark.resultiterable.ResultIterable object at 0x107ab89d0>), (u'GREEN GOBLIN V/', <pyspark.resultiterable.ResultIterable object at 0x107ab8310>), (u'ENRAGED', <pyspark.resultiterable.ResultIterable object at 0x107ab8d10>), (u'RED WOLF III/WILL TA', <pyspark.resultiterable.ResultIterable object at 0x107ab8b90>)]\n",
        "Adjacency partitions: 15\n",
        "Start traverse partitions:"
       ]
      },
      {
       "output_type": "stream",
       "stream": "stdout",
       "text": [
        " 15\n",
        "\n",
        "\n",
        "On iteration  0  for  CAPTAIN AMERICA \n",
        "\n",
        "\n",
        "\n",
        "\n",
        "On iteration "
       ]
      },
      {
       "output_type": "stream",
       "stream": "stdout",
       "text": [
        " 1  for  CAPTAIN AMERICA \n",
        "\n",
        "\n",
        "\n",
        "\n",
        "On iteration "
       ]
      },
      {
       "output_type": "stream",
       "stream": "stdout",
       "text": [
        " 2  for  CAPTAIN AMERICA \n",
        "\n",
        "\n",
        "\n",
        "\n",
        "On iteration "
       ]
      },
      {
       "output_type": "stream",
       "stream": "stdout",
       "text": [
        " 3  for  CAPTAIN AMERICA \n",
        "\n",
        "\n",
        "End tranverse partitions:"
       ]
      },
      {
       "output_type": "stream",
       "stream": "stdout",
       "text": [
        " 15\n",
        "defaultdict(<type 'int'>, {0: 1, 1: 1906, 2: 4463, 3: 38, -1: 18})"
       ]
      },
      {
       "output_type": "stream",
       "stream": "stdout",
       "text": [
        " \n",
        "\n",
        "\n",
        "\n",
        "Calculating connected components....\n",
        "\n",
        "\n",
        "Adjacency partitions:"
       ]
      },
      {
       "output_type": "stream",
       "stream": "stdout",
       "text": [
        " 15\n",
        "Start traverse partitions:"
       ]
      },
      {
       "output_type": "stream",
       "stream": "stdout",
       "text": [
        " 15\n",
        "\n",
        "\n",
        "On iteration  0  for  CYBELE [ETERNAL] \n",
        "\n",
        "\n",
        "\n",
        "\n",
        "On iteration "
       ]
      },
      {
       "output_type": "stream",
       "stream": "stdout",
       "text": [
        " 1  for  CYBELE [ETERNAL] \n",
        "\n",
        "\n",
        "\n",
        "\n",
        "On iteration "
       ]
      },
      {
       "output_type": "stream",
       "stream": "stdout",
       "text": [
        " 2  for  CYBELE [ETERNAL] \n",
        "\n",
        "\n",
        "\n",
        "\n",
        "On iteration "
       ]
      },
      {
       "output_type": "stream",
       "stream": "stdout",
       "text": [
        " 3  for  CYBELE [ETERNAL] \n",
        "\n",
        "\n",
        "\n",
        "\n",
        "On iteration "
       ]
      },
      {
       "output_type": "stream",
       "stream": "stdout",
       "text": [
        " 4  for  CYBELE [ETERNAL] \n",
        "\n",
        "\n",
        "End tranverse partitions:"
       ]
      },
      {
       "output_type": "stream",
       "stream": "stdout",
       "text": [
        " 15\n",
        "Adjacency partitions:"
       ]
      },
      {
       "output_type": "stream",
       "stream": "stdout",
       "text": [
        " 15\n",
        "Start traverse partitions:"
       ]
      },
      {
       "output_type": "stream",
       "stream": "stdout",
       "text": [
        " 15\n",
        "\n",
        "\n",
        "On iteration  0  for  OSWALD \n",
        "\n",
        "\n",
        "\n",
        "\n",
        "On iteration "
       ]
      },
      {
       "output_type": "stream",
       "stream": "stdout",
       "text": [
        " 1  for  OSWALD \n",
        "\n",
        "\n",
        "End tranverse partitions:"
       ]
      },
      {
       "output_type": "stream",
       "stream": "stdout",
       "text": [
        " 15\n",
        "Adjacency partitions:"
       ]
      },
      {
       "output_type": "stream",
       "stream": "stdout",
       "text": [
        " 15\n",
        "Start traverse partitions:"
       ]
      },
      {
       "output_type": "stream",
       "stream": "stdout",
       "text": [
        " 15\n",
        "\n",
        "\n",
        "On iteration  0  for  MASTER OF VENGEANCE \n",
        "\n",
        "\n",
        "\n",
        "\n",
        "On iteration "
       ]
      },
      {
       "output_type": "stream",
       "stream": "stdout",
       "text": [
        " 1  for  MASTER OF VENGEANCE \n",
        "\n",
        "\n",
        "End tranverse partitions:"
       ]
      },
      {
       "output_type": "stream",
       "stream": "stdout",
       "text": [
        " 15\n",
        "Adjacency partitions:"
       ]
      },
      {
       "output_type": "stream",
       "stream": "stdout",
       "text": [
        " 15\n",
        "Start traverse partitions:"
       ]
      },
      {
       "output_type": "stream",
       "stream": "stdout",
       "text": [
        " 15\n",
        "\n",
        "\n",
        "On iteration  0  for  AMAZO-MAXI-WOMAN/ \n",
        "\n",
        "\n",
        "\n",
        "\n",
        "On iteration "
       ]
      },
      {
       "output_type": "stream",
       "stream": "stdout",
       "text": [
        " 1  for  AMAZO-MAXI-WOMAN/ \n",
        "\n",
        "\n",
        "End tranverse partitions:"
       ]
      },
      {
       "output_type": "stream",
       "stream": "stdout",
       "text": [
        " 15\n",
        "\n",
        "\n",
        "\n",
        "\n",
        "\n",
        "\n",
        "Number connected components: "
       ]
      },
      {
       "output_type": "stream",
       "stream": "stdout",
       "text": [
        " 4\n"
       ]
      }
     ],
     "prompt_number": 26
    },
    {
     "cell_type": "code",
     "collapsed": false,
     "input": [
      "-"
     ],
     "language": "python",
     "metadata": {},
     "outputs": [
      {
       "output_type": "stream",
       "stream": "stdout",
       "text": [
        "7 3\n",
        "Adjacency partitions: 42\n",
        "Start traverse partitions:"
       ]
      },
      {
       "output_type": "stream",
       "stream": "stdout",
       "text": [
        " 128\n",
        "\n",
        "\n",
        "On iteration  0  for  7 \n",
        "\n",
        "\n",
        "\n",
        "\n",
        "On iteration "
       ]
      },
      {
       "output_type": "stream",
       "stream": "stdout",
       "text": [
        " 1  for  7 \n",
        "\n",
        "\n",
        "\n",
        "\n",
        "On iteration "
       ]
      },
      {
       "output_type": "stream",
       "stream": "stdout",
       "text": [
        " 2  for  7 \n",
        "\n",
        "\n",
        "End tranverse partitions:"
       ]
      },
      {
       "output_type": "stream",
       "stream": "stdout",
       "text": [
        " 128\n",
        "[(0, 1), (1, 1), (2, 1), (3, 2), (4, 1), (5, 1), (6, 1), (7, 0), (8, 1)]"
       ]
      },
      {
       "output_type": "stream",
       "stream": "stdout",
       "text": [
        "\n",
        "Distance to end node: "
       ]
      },
      {
       "output_type": "stream",
       "stream": "stdout",
       "text": [
        "2\n",
        "\n",
        "\n",
        "Calculating connected components....\n",
        "\n",
        "\n",
        "Adjacency partitions:"
       ]
      },
      {
       "output_type": "stream",
       "stream": "stdout",
       "text": [
        " 128\n",
        "Start traverse partitions:"
       ]
      },
      {
       "output_type": "stream",
       "stream": "stdout",
       "text": [
        " 128\n",
        "\n",
        "\n",
        "On iteration  0  for  3 \n",
        "\n",
        "\n",
        "\n",
        "\n",
        "On iteration "
       ]
      },
      {
       "output_type": "stream",
       "stream": "stdout",
       "text": [
        " 1  for  3 \n",
        "\n",
        "\n",
        "\n",
        "\n",
        "On iteration "
       ]
      },
      {
       "output_type": "stream",
       "stream": "stdout",
       "text": [
        " 2  for  3 \n",
        "\n",
        "\n",
        "End tranverse partitions:"
       ]
      },
      {
       "output_type": "stream",
       "stream": "stdout",
       "text": [
        " 128\n",
        "\n",
        "\n",
        "\n",
        "\n",
        "\n",
        "\n",
        "Number connected components: "
       ]
      },
      {
       "output_type": "stream",
       "stream": "stdout",
       "text": [
        " 1\n"
       ]
      }
     ],
     "prompt_number": 27
    },
    {
     "cell_type": "code",
     "collapsed": false,
     "input": [],
     "language": "python",
     "metadata": {},
     "outputs": []
    },
    {
     "cell_type": "code",
     "collapsed": false,
     "input": [
      "x_test = sc.parallelize([(\"a\", 1), (\"b\", 4)])\n",
      "y_test = sc.parallelize([(\"a\", 2), (\"a\", 2), (\"c\", 8)])\n",
      "\n",
      "def reducer(tup):\n",
      "    left_val = tup[0]\n",
      "    right_vals = tup[1]\n",
      "    if len(left_val) == 0:\n",
      "        return list(right_vals)[0]\n",
      "    elif len(right_vals) == 0:\n",
      "        return list(left_val)[0]\n",
      "    else:\n",
      "        return list(left_val)[0]\n",
      "\n",
      "\n",
      "wut1 = sc.parallelize([(1, 2), (1, 1), (1, 0), (1, 8), (1, 4), (7, 4), \n",
      "                       (8, 0), (8, 6), (8, 8), (8, 1), (8, 4), (8, 2), \n",
      "                       (3, 0), (3, 2), (3, 6), (3, 5), (3, 1), (3, 7), \n",
      "                       (3, 8), (3, 3), (0, 2), (0, 3), (0, 4), (0, 5), \n",
      "                       (0, 6), (0, 1), (0, 0), (0, 8), (4, 0), (4, 8), \n",
      "                       (4, 1), (4, 2), (4, 5), (4, 6), (4, 3), (6, 8), \n",
      "                       (6, 6), (6, 0), (6, 3), (6, 4), (6, 1), (6, 7), \n",
      "                       (6, 5), (6, 2), (5, 7), (5, 1), (5, 6), (5, 3), \n",
      "                       (5, 4), (5, 2), (5, 5), (5, 8), (2, 1), (2, 0), (2, 6)])\n",
      "wut2 = sc.parallelize([(7, 0)])\n",
      "\n",
      "print wut1.join(wut2).collect()\n",
      "#print x_test.cogroup(y_test).mapValues(reducer).collect()"
     ],
     "language": "python",
     "metadata": {},
     "outputs": [
      {
       "output_type": "stream",
       "stream": "stdout",
       "text": [
        "[(7, (4, 0))]\n"
       ]
      }
     ],
     "prompt_number": 123
    },
    {
     "cell_type": "code",
     "collapsed": false,
     "input": [
      "x_test = sc.parallelize([])"
     ],
     "language": "python",
     "metadata": {},
     "outputs": [],
     "prompt_number": 11
    },
    {
     "cell_type": "code",
     "collapsed": false,
     "input": [
      "ac = sc.accumulator(0)\n",
      "print ac.value\n",
      "print x_test.take(10)\n",
      "x_test.foreach(lambda x: ac.add(1))\n",
      "print ac.value"
     ],
     "language": "python",
     "metadata": {},
     "outputs": [
      {
       "output_type": "stream",
       "stream": "stdout",
       "text": [
        "0\n",
        "[]"
       ]
      },
      {
       "output_type": "stream",
       "stream": "stdout",
       "text": [
        "\n",
        "0"
       ]
      },
      {
       "output_type": "stream",
       "stream": "stdout",
       "text": [
        "\n"
       ]
      }
     ],
     "prompt_number": 12
    },
    {
     "cell_type": "code",
     "collapsed": false,
     "input": [
      "print len(x_test.take(1)) == 0\n"
     ],
     "language": "python",
     "metadata": {},
     "outputs": [
      {
       "output_type": "stream",
       "stream": "stdout",
       "text": [
        "True\n"
       ]
      }
     ],
     "prompt_number": 7
    },
    {
     "cell_type": "code",
     "collapsed": false,
     "input": [
      "x = sc.parallelize([(\"a\", 1), (\"b\", 4)])\n",
      "y = sc.parallelize([(\"a\", 2)])\n",
      "print [(x, tuple(map(list, y))) for x, y in sorted(list(x.cogroup(y).collect()))]\n",
      "[('a', ([1], [2])), ('b', ([4], []))]"
     ],
     "language": "python",
     "metadata": {},
     "outputs": [],
     "prompt_number": 13
    },
    {
     "cell_type": "code",
     "collapsed": false,
     "input": [],
     "language": "python",
     "metadata": {},
     "outputs": []
    }
   ],
   "metadata": {}
  }
 ]
}